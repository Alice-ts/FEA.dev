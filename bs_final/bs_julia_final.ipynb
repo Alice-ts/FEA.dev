{
 "cells": [
  {
   "cell_type": "code",
   "execution_count": 88,
   "metadata": {},
   "outputs": [],
   "source": [
    "# Packages used\n",
    "\n",
    "using DataFrames,\n",
    "    CSV, \n",
    "    Statistics, \n",
    "    FinancialToolbox,\n",
    "    Dates,\n",
    "    Cascadia,\n",
    "    Gumbo,\n",
    "    HTTP"
   ]
  },
  {
   "cell_type": "code",
   "execution_count": 472,
   "metadata": {},
   "outputs": [
    {
     "data": {
      "text/html": [
       "<div class=\"data-frame\"><p>74 rows × 7 columns (omitted printing of 1 columns)</p><table class=\"data-frame\"><thead><tr><th></th><th>Column1</th><th>contractSymbol</th><th>lastTradeDate</th><th>strike</th><th>lastPrice</th><th>impliedVolatility</th></tr><tr><th></th><th title=\"Int64\">Int64</th><th title=\"String31\">String31</th><th title=\"String31\">String31</th><th title=\"Float64\">Float64</th><th title=\"Float64\">Float64</th><th title=\"Float64\">Float64</th></tr></thead><tbody><tr><th>1</th><td>0</td><td>AMZN240119C01600000</td><td>2021-12-29 19:33:53</td><td>1600.0</td><td>1874.0</td><td>0.455414</td></tr><tr><th>2</th><td>1</td><td>AMZN240119C01620000</td><td>2021-12-13 20:20:40</td><td>1620.0</td><td>1878.0</td><td>0.452032</td></tr><tr><th>3</th><td>2</td><td>AMZN240119C01640000</td><td>2021-11-10 11:48:11</td><td>1640.0</td><td>1692.02</td><td>0.567616</td></tr><tr><th>4</th><td>3</td><td>AMZN240119C01660000</td><td>2021-12-22 18:41:23</td><td>1660.0</td><td>1811.5</td><td>0.445249</td></tr><tr><th>5</th><td>4</td><td>AMZN240119C01680000</td><td>2021-12-30 14:40:17</td><td>1680.0</td><td>1793.0</td><td>0.441847</td></tr><tr><th>6</th><td>5</td><td>AMZN240119C01700000</td><td>2021-12-29 15:12:54</td><td>1700.0</td><td>1772.0</td><td>0.438579</td></tr><tr><th>7</th><td>6</td><td>AMZN240119C01720000</td><td>2021-11-30 16:22:49</td><td>1720.0</td><td>1891.0</td><td>0.47756</td></tr><tr><th>8</th><td>7</td><td>AMZN240119C01740000</td><td>2021-12-17 19:50:52</td><td>1740.0</td><td>1753.0</td><td>0.43228</td></tr><tr><th>9</th><td>8</td><td>AMZN240119C01760000</td><td>2021-11-17 18:51:22</td><td>1760.0</td><td>1899.9</td><td>0.500442</td></tr><tr><th>10</th><td>9</td><td>AMZN240119C01780000</td><td>2021-11-10 11:48:15</td><td>1780.0</td><td>1619.38</td><td>0.532975</td></tr><tr><th>11</th><td>10</td><td>AMZN240119C01800000</td><td>2021-12-02 14:30:21</td><td>1800.0</td><td>1764.0</td><td>0.423237</td></tr><tr><th>12</th><td>11</td><td>AMZN240119C01820000</td><td>2021-11-30 19:54:01</td><td>1820.0</td><td>1784.0</td><td>0.459518</td></tr><tr><th>13</th><td>12</td><td>AMZN240119C01880000</td><td>2021-11-26 14:35:26</td><td>1880.0</td><td>1826.0</td><td>0.498218</td></tr><tr><th>14</th><td>13</td><td>AMZN240119C01900000</td><td>2021-12-16 18:18:16</td><td>1900.0</td><td>1601.0</td><td>0.410551</td></tr><tr><th>15</th><td>14</td><td>AMZN240119C01920000</td><td>2021-12-03 15:41:30</td><td>1920.0</td><td>1600.0</td><td>0.408148</td></tr><tr><th>16</th><td>15</td><td>AMZN240119C01940000</td><td>2021-11-05 19:11:51</td><td>1940.0</td><td>1681.5</td><td>0.543748</td></tr><tr><th>17</th><td>16</td><td>AMZN240119C01960000</td><td>2021-12-31 15:13:20</td><td>1960.0</td><td>1524.17</td><td>0.40324</td></tr><tr><th>18</th><td>17</td><td>AMZN240119C01980000</td><td>2021-12-31 15:13:20</td><td>1980.0</td><td>1507.17</td><td>0.400738</td></tr><tr><th>19</th><td>18</td><td>AMZN240119C02000000</td><td>2021-12-28 20:49:04</td><td>2000.0</td><td>1550.6</td><td>0.398207</td></tr><tr><th>20</th><td>19</td><td>AMZN240119C02050000</td><td>2021-12-06 14:41:23</td><td>2050.0</td><td>1460.95</td><td>0.392769</td></tr><tr><th>21</th><td>20</td><td>AMZN240119C02100000</td><td>2021-12-22 19:58:44</td><td>2100.0</td><td>1452.9</td><td>0.387577</td></tr><tr><th>22</th><td>21</td><td>AMZN240119C02150000</td><td>2021-12-16 19:27:16</td><td>2150.0</td><td>1385.4</td><td>0.38307</td></tr><tr><th>23</th><td>22</td><td>AMZN240119C02200000</td><td>2021-12-29 14:53:05</td><td>2200.0</td><td>1380.5</td><td>0.378268</td></tr><tr><th>24</th><td>23</td><td>AMZN240119C02250000</td><td>2021-12-29 14:52:46</td><td>2250.0</td><td>1344.0</td><td>0.374064</td></tr><tr><th>25</th><td>24</td><td>AMZN240119C02300000</td><td>2021-12-27 15:35:09</td><td>2300.0</td><td>1309.9</td><td>0.369975</td></tr><tr><th>26</th><td>25</td><td>AMZN240119C02350000</td><td>2021-12-30 17:33:42</td><td>2350.0</td><td>1247.0</td><td>0.365983</td></tr><tr><th>27</th><td>26</td><td>AMZN240119C02400000</td><td>2021-12-31 18:54:09</td><td>2400.0</td><td>1169.45</td><td>0.362465</td></tr><tr><th>28</th><td>27</td><td>AMZN240119C02450000</td><td>2021-11-01 13:56:56</td><td>2450.0</td><td>1098.0</td><td>0.443146</td></tr><tr><th>29</th><td>28</td><td>AMZN240119C02500000</td><td>2021-12-31 15:51:56</td><td>2500.0</td><td>1097.0</td><td>0.355928</td></tr><tr><th>30</th><td>29</td><td>AMZN240119C02550000</td><td>2021-12-22 18:00:32</td><td>2550.0</td><td>1126.66</td><td>0.35323</td></tr><tr><th>&vellip;</th><td>&vellip;</td><td>&vellip;</td><td>&vellip;</td><td>&vellip;</td><td>&vellip;</td><td>&vellip;</td></tr></tbody></table></div>"
      ],
      "text/latex": [
       "\\begin{tabular}{r|ccccccc}\n",
       "\t& Column1 & contractSymbol & lastTradeDate & strike & lastPrice & impliedVolatility & \\\\\n",
       "\t\\hline\n",
       "\t& Int64 & String31 & String31 & Float64 & Float64 & Float64 & \\\\\n",
       "\t\\hline\n",
       "\t1 & 0 & AMZN240119C01600000 & 2021-12-29 19:33:53 & 1600.0 & 1874.0 & 0.455414 & $\\dots$ \\\\\n",
       "\t2 & 1 & AMZN240119C01620000 & 2021-12-13 20:20:40 & 1620.0 & 1878.0 & 0.452032 & $\\dots$ \\\\\n",
       "\t3 & 2 & AMZN240119C01640000 & 2021-11-10 11:48:11 & 1640.0 & 1692.02 & 0.567616 & $\\dots$ \\\\\n",
       "\t4 & 3 & AMZN240119C01660000 & 2021-12-22 18:41:23 & 1660.0 & 1811.5 & 0.445249 & $\\dots$ \\\\\n",
       "\t5 & 4 & AMZN240119C01680000 & 2021-12-30 14:40:17 & 1680.0 & 1793.0 & 0.441847 & $\\dots$ \\\\\n",
       "\t6 & 5 & AMZN240119C01700000 & 2021-12-29 15:12:54 & 1700.0 & 1772.0 & 0.438579 & $\\dots$ \\\\\n",
       "\t7 & 6 & AMZN240119C01720000 & 2021-11-30 16:22:49 & 1720.0 & 1891.0 & 0.47756 & $\\dots$ \\\\\n",
       "\t8 & 7 & AMZN240119C01740000 & 2021-12-17 19:50:52 & 1740.0 & 1753.0 & 0.43228 & $\\dots$ \\\\\n",
       "\t9 & 8 & AMZN240119C01760000 & 2021-11-17 18:51:22 & 1760.0 & 1899.9 & 0.500442 & $\\dots$ \\\\\n",
       "\t10 & 9 & AMZN240119C01780000 & 2021-11-10 11:48:15 & 1780.0 & 1619.38 & 0.532975 & $\\dots$ \\\\\n",
       "\t11 & 10 & AMZN240119C01800000 & 2021-12-02 14:30:21 & 1800.0 & 1764.0 & 0.423237 & $\\dots$ \\\\\n",
       "\t12 & 11 & AMZN240119C01820000 & 2021-11-30 19:54:01 & 1820.0 & 1784.0 & 0.459518 & $\\dots$ \\\\\n",
       "\t13 & 12 & AMZN240119C01880000 & 2021-11-26 14:35:26 & 1880.0 & 1826.0 & 0.498218 & $\\dots$ \\\\\n",
       "\t14 & 13 & AMZN240119C01900000 & 2021-12-16 18:18:16 & 1900.0 & 1601.0 & 0.410551 & $\\dots$ \\\\\n",
       "\t15 & 14 & AMZN240119C01920000 & 2021-12-03 15:41:30 & 1920.0 & 1600.0 & 0.408148 & $\\dots$ \\\\\n",
       "\t16 & 15 & AMZN240119C01940000 & 2021-11-05 19:11:51 & 1940.0 & 1681.5 & 0.543748 & $\\dots$ \\\\\n",
       "\t17 & 16 & AMZN240119C01960000 & 2021-12-31 15:13:20 & 1960.0 & 1524.17 & 0.40324 & $\\dots$ \\\\\n",
       "\t18 & 17 & AMZN240119C01980000 & 2021-12-31 15:13:20 & 1980.0 & 1507.17 & 0.400738 & $\\dots$ \\\\\n",
       "\t19 & 18 & AMZN240119C02000000 & 2021-12-28 20:49:04 & 2000.0 & 1550.6 & 0.398207 & $\\dots$ \\\\\n",
       "\t20 & 19 & AMZN240119C02050000 & 2021-12-06 14:41:23 & 2050.0 & 1460.95 & 0.392769 & $\\dots$ \\\\\n",
       "\t21 & 20 & AMZN240119C02100000 & 2021-12-22 19:58:44 & 2100.0 & 1452.9 & 0.387577 & $\\dots$ \\\\\n",
       "\t22 & 21 & AMZN240119C02150000 & 2021-12-16 19:27:16 & 2150.0 & 1385.4 & 0.38307 & $\\dots$ \\\\\n",
       "\t23 & 22 & AMZN240119C02200000 & 2021-12-29 14:53:05 & 2200.0 & 1380.5 & 0.378268 & $\\dots$ \\\\\n",
       "\t24 & 23 & AMZN240119C02250000 & 2021-12-29 14:52:46 & 2250.0 & 1344.0 & 0.374064 & $\\dots$ \\\\\n",
       "\t25 & 24 & AMZN240119C02300000 & 2021-12-27 15:35:09 & 2300.0 & 1309.9 & 0.369975 & $\\dots$ \\\\\n",
       "\t26 & 25 & AMZN240119C02350000 & 2021-12-30 17:33:42 & 2350.0 & 1247.0 & 0.365983 & $\\dots$ \\\\\n",
       "\t27 & 26 & AMZN240119C02400000 & 2021-12-31 18:54:09 & 2400.0 & 1169.45 & 0.362465 & $\\dots$ \\\\\n",
       "\t28 & 27 & AMZN240119C02450000 & 2021-11-01 13:56:56 & 2450.0 & 1098.0 & 0.443146 & $\\dots$ \\\\\n",
       "\t29 & 28 & AMZN240119C02500000 & 2021-12-31 15:51:56 & 2500.0 & 1097.0 & 0.355928 & $\\dots$ \\\\\n",
       "\t30 & 29 & AMZN240119C02550000 & 2021-12-22 18:00:32 & 2550.0 & 1126.66 & 0.35323 & $\\dots$ \\\\\n",
       "\t$\\dots$ & $\\dots$ & $\\dots$ & $\\dots$ & $\\dots$ & $\\dots$ & $\\dots$ &  \\\\\n",
       "\\end{tabular}\n"
      ],
      "text/plain": [
       "\u001b[1m74×7 DataFrame\u001b[0m\n",
       "\u001b[1m Row \u001b[0m│\u001b[1m Column1 \u001b[0m\u001b[1m contractSymbol      \u001b[0m\u001b[1m lastTradeDate       \u001b[0m\u001b[1m strike  \u001b[0m\u001b[1m lastPrice \u001b[0m\u001b[1m \u001b[0m ⋯\n",
       "\u001b[1m     \u001b[0m│\u001b[90m Int64   \u001b[0m\u001b[90m String31            \u001b[0m\u001b[90m String31            \u001b[0m\u001b[90m Float64 \u001b[0m\u001b[90m Float64   \u001b[0m\u001b[90m \u001b[0m ⋯\n",
       "─────┼──────────────────────────────────────────────────────────────────────────\n",
       "   1 │       0  AMZN240119C01600000  2021-12-29 19:33:53   1600.0    1874.0    ⋯\n",
       "   2 │       1  AMZN240119C01620000  2021-12-13 20:20:40   1620.0    1878.0\n",
       "   3 │       2  AMZN240119C01640000  2021-11-10 11:48:11   1640.0    1692.02\n",
       "   4 │       3  AMZN240119C01660000  2021-12-22 18:41:23   1660.0    1811.5\n",
       "   5 │       4  AMZN240119C01680000  2021-12-30 14:40:17   1680.0    1793.0    ⋯\n",
       "   6 │       5  AMZN240119C01700000  2021-12-29 15:12:54   1700.0    1772.0\n",
       "   7 │       6  AMZN240119C01720000  2021-11-30 16:22:49   1720.0    1891.0\n",
       "   8 │       7  AMZN240119C01740000  2021-12-17 19:50:52   1740.0    1753.0\n",
       "   9 │       8  AMZN240119C01760000  2021-11-17 18:51:22   1760.0    1899.9    ⋯\n",
       "  10 │       9  AMZN240119C01780000  2021-11-10 11:48:15   1780.0    1619.38\n",
       "  11 │      10  AMZN240119C01800000  2021-12-02 14:30:21   1800.0    1764.0\n",
       "  ⋮  │    ⋮              ⋮                    ⋮              ⋮         ⋮       ⋱\n",
       "  65 │      64  AMZN240119C03280000  2021-11-10 18:36:48   3280.0     785.0\n",
       "  66 │      65  AMZN240119C03285000  2021-12-14 15:07:37   3285.0     657.94   ⋯\n",
       "  67 │      66  AMZN240119C03290000  2021-12-14 15:07:37   3290.0     655.48\n",
       "  68 │      67  AMZN240119C03295000  2021-12-09 15:03:18   3295.0     767.8\n",
       "  69 │      68  AMZN240119C03300000  2021-12-31 20:59:42   3300.0     620.0\n",
       "  70 │      69  AMZN240119C03305000  2021-12-14 15:31:48   3305.0     654.0    ⋯\n",
       "  71 │      70  AMZN240119C03310000  2021-12-15 17:56:24   3310.0     624.5\n",
       "  72 │      71  AMZN240119C03315000  2021-12-15 16:51:39   3315.0     620.0\n",
       "  73 │      72  AMZN240119C03320000  2021-12-20 20:52:38   3320.0     625.74\n",
       "  74 │      73  AMZN240119C03330000  2021-12-31 20:55:45   3330.0     603.9    ⋯\n",
       "\u001b[36m                                                   2 columns and 53 rows omitted\u001b[0m"
      ]
     },
     "execution_count": 472,
     "metadata": {},
     "output_type": "execute_result"
    }
   ],
   "source": [
    "# Importing CSVs\n",
    "\n",
    "amzn_data = CSV.read(\"amzn_itm_calls.csv\", DataFrame)\n",
    "amzn_itm_calls = CSV.read(\"amzn_data.csv\", DataFrame)"
   ]
  },
  {
   "cell_type": "code",
   "execution_count": 316,
   "metadata": {},
   "outputs": [
    {
     "data": {
      "text/plain": [
       "0.29378519174120554"
      ]
     },
     "execution_count": 316,
     "metadata": {},
     "output_type": "execute_result"
    }
   ],
   "source": [
    "# Volatility Code\n",
    "\n",
    "three_yrs = 252*3 \n",
    "σ = std(last(amzn_data[!,\"Returns\"], three_yrs))*sqrt(252)\n",
    "\n",
    "#  Dividend Code\n",
    "d = 0\n",
    "\n",
    "# Current price code\n",
    "\n",
    "amzn_ex_price = last(amzn_data[!,\"Adj Close\"])\n",
    "σ"
   ]
  },
  {
   "cell_type": "code",
   "execution_count": 317,
   "metadata": {},
   "outputs": [
    {
     "data": {
      "text/plain": [
       "\"1.51%\""
      ]
     },
     "execution_count": 317,
     "metadata": {},
     "output_type": "execute_result"
    }
   ],
   "source": [
    "# risk_free_rate scraping\n",
    "\n",
    "url = \"https://www.bloomberg.com/markets/rates-bonds/government-bonds/us\"\n",
    "r = HTTP.get(url)\n",
    "h = parsehtml(String(r.body))\n",
    "body = h.root[2]\n",
    "risk_free_raw_1 = eachmatch(Selector(\"#content > div > div >\n",
    "        div.section-front__main-content > div.data-tables.first > div >\n",
    "        table > tbody > tr:nth-child(6) > td:nth-child(4) > span\"), body)\n",
    "\n",
    "risk_free_raw_2 = (text(risk_free_raw[1]))"
   ]
  },
  {
   "cell_type": "code",
   "execution_count": 318,
   "metadata": {},
   "outputs": [
    {
     "data": {
      "text/plain": [
       "0.0151"
      ]
     },
     "execution_count": 318,
     "metadata": {},
     "output_type": "execute_result"
    }
   ],
   "source": [
    "# Risk free float conversion\n",
    "\n",
    "risk_free_rate = replace(risk_free_raw_2, \"%\" => \"\" )\n",
    "risk_free_float = parse(Float64, risk_free_rate)/100"
   ]
  },
  {
   "cell_type": "code",
   "execution_count": 319,
   "metadata": {},
   "outputs": [
    {
     "data": {
      "text/plain": [
       "2.9682539682539684"
      ]
     },
     "execution_count": 319,
     "metadata": {},
     "output_type": "execute_result"
    }
   ],
   "source": [
    "# Time delta code\n",
    "\n",
    "today = Dates.today()\n",
    "due_date = Dates.Date(\"2024-01-19\")\n",
    "T = (Dates.value(due_date - today))/252"
   ]
  },
  {
   "cell_type": "code",
   "execution_count": 320,
   "metadata": {},
   "outputs": [
    {
     "data": {
      "text/plain": [
       "bstest (generic function with 1 method)"
      ]
     },
     "execution_count": 320,
     "metadata": {},
     "output_type": "execute_result"
    }
   ],
   "source": [
    "function bstest(row)\n",
    "    strikep = amzn_itm_calls[!,\"strike\"][row]\n",
    "    blsp = blsprice(amzn_ex_price, strikep, risk_free_float, T, σ, d )\n",
    "    actualp = amzn_itm_calls[!,\"lastPrice\"][row]\n",
    "    println(\"Black-Scholes Price:\", blsp)\n",
    "    print(\"Actual Price:\", actualp)\n",
    "end"
   ]
  },
  {
   "cell_type": "code",
   "execution_count": 471,
   "metadata": {
    "scrolled": false
   },
   "outputs": [
    {
     "name": "stdout",
     "output_type": "stream",
     "text": [
      "Black-Scholes Price:752.1993441753975\n",
      "Actual Price:693.68"
     ]
    }
   ],
   "source": [
    "rownumber = size(amzn_itm_calls, 1)\n",
    "randrow = rand(1:rownumber)\n",
    "bstest(randrow)"
   ]
  }
 ],
 "metadata": {
  "kernelspec": {
   "display_name": "Julia 1.7.0",
   "language": "julia",
   "name": "julia-1.7"
  },
  "language_info": {
   "file_extension": ".jl",
   "mimetype": "application/julia",
   "name": "julia",
   "version": "1.7.0"
  }
 },
 "nbformat": 4,
 "nbformat_minor": 4
}
