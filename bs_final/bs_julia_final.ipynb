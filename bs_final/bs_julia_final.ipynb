{
 "cells": [
  {
   "cell_type": "code",
   "execution_count": 7,
   "metadata": {},
   "outputs": [],
   "source": [
    "# Packages used\n",
    "\n",
    "using DataFrames,\n",
    "    CSV, \n",
    "    Statistics, \n",
    "    FinancialToolbox,\n",
    "    Dates,\n",
    "    Cascadia,\n",
    "    Gumbo,\n",
    "    HTTP"
   ]
  },
  {
   "cell_type": "code",
   "execution_count": 8,
   "metadata": {},
   "outputs": [
    {
     "data": {
      "text/html": [
       "<div class=\"data-frame\"><p>37 rows × 7 columns (omitted printing of 1 columns)</p><table class=\"data-frame\"><thead><tr><th></th><th>Column1</th><th>contractSymbol</th><th>lastTradeDate</th><th>strike</th><th>lastPrice</th><th>impliedVolatility</th></tr><tr><th></th><th title=\"Int64\">Int64</th><th title=\"String31\">String31</th><th title=\"String31\">String31</th><th title=\"Float64\">Float64</th><th title=\"Float64\">Float64</th><th title=\"Float64\">Float64</th></tr></thead><tbody><tr><th>1</th><td>0</td><td>AMZN240119C01580000</td><td>2022-01-21 15:26:57</td><td>1580.0</td><td>1358.05</td><td>0.407957</td></tr><tr><th>2</th><td>1</td><td>AMZN240119C01600000</td><td>2022-01-21 20:59:17</td><td>1600.0</td><td>1379.0</td><td>0.401018</td></tr><tr><th>3</th><td>2</td><td>AMZN240119C01620000</td><td>2022-01-21 19:39:42</td><td>1620.0</td><td>1393.7</td><td>0.392063</td></tr><tr><th>4</th><td>3</td><td>AMZN240119C01640000</td><td>2022-01-21 20:59:16</td><td>1640.0</td><td>1337.0</td><td>0.402312</td></tr><tr><th>5</th><td>4</td><td>AMZN240119C01660000</td><td>2022-01-21 20:45:11</td><td>1660.0</td><td>1331.03</td><td>0.388119</td></tr><tr><th>6</th><td>5</td><td>AMZN240119C01680000</td><td>2022-01-21 19:36:29</td><td>1680.0</td><td>1337.62</td><td>0.395745</td></tr><tr><th>7</th><td>6</td><td>AMZN240119C01700000</td><td>2022-01-21 19:35:54</td><td>1700.0</td><td>1246.45</td><td>0.387022</td></tr><tr><th>8</th><td>7</td><td>AMZN240119C01720000</td><td>2022-01-21 19:57:50</td><td>1720.0</td><td>1293.05</td><td>0.394589</td></tr><tr><th>9</th><td>8</td><td>AMZN240119C01740000</td><td>2022-01-21 16:45:32</td><td>1740.0</td><td>1325.0</td><td>0.384127</td></tr><tr><th>10</th><td>9</td><td>AMZN240119C01760000</td><td>2022-01-21 20:37:57</td><td>1760.0</td><td>1250.0</td><td>0.389346</td></tr><tr><th>11</th><td>10</td><td>AMZN240119C01780000</td><td>2022-01-21 20:44:04</td><td>1780.0</td><td>1242.45</td><td>0.38432</td></tr><tr><th>12</th><td>11</td><td>AMZN240119C01800000</td><td>2022-01-21 20:44:33</td><td>1800.0</td><td>1224.39</td><td>0.39124</td></tr><tr><th>13</th><td>12</td><td>AMZN240119C01820000</td><td>2022-01-21 17:03:10</td><td>1820.0</td><td>1253.1</td><td>0.380515</td></tr><tr><th>14</th><td>13</td><td>AMZN240119C01840000</td><td>2022-01-21 20:36:15</td><td>1840.0</td><td>1183.88</td><td>0.388581</td></tr><tr><th>15</th><td>14</td><td>AMZN240119C01860000</td><td>2022-01-21 20:51:35</td><td>1860.0</td><td>1169.03</td><td>0.375851</td></tr><tr><th>16</th><td>15</td><td>AMZN240119C01880000</td><td>2022-01-21 20:37:26</td><td>1880.0</td><td>1151.87</td><td>0.38344</td></tr><tr><th>17</th><td>16</td><td>AMZN240119C01900000</td><td>2022-01-24 14:48:04</td><td>1900.0</td><td>1090.61</td><td>0.373541</td></tr><tr><th>18</th><td>17</td><td>AMZN240119C01920000</td><td>2022-01-24 15:51:37</td><td>1920.0</td><td>1058.01</td><td>0.374526</td></tr><tr><th>19</th><td>18</td><td>AMZN240119C01940000</td><td>2022-01-21 20:40:04</td><td>1940.0</td><td>1109.44</td><td>0.371325</td></tr><tr><th>20</th><td>19</td><td>AMZN240119C01960000</td><td>2022-01-21 20:41:50</td><td>1960.0</td><td>1101.97</td><td>0.370558</td></tr><tr><th>21</th><td>20</td><td>AMZN240119C01980000</td><td>2022-01-21 20:57:29</td><td>1980.0</td><td>1068.7</td><td>0.369193</td></tr><tr><th>22</th><td>21</td><td>AMZN240119C02000000</td><td>2022-01-24 17:54:51</td><td>2000.0</td><td>970.0</td><td>0.369645</td></tr><tr><th>23</th><td>22</td><td>AMZN240119C02050000</td><td>2022-01-21 20:57:21</td><td>2050.0</td><td>1009.8</td><td>0.373103</td></tr><tr><th>24</th><td>23</td><td>AMZN240119C02100000</td><td>2022-01-21 17:33:44</td><td>2100.0</td><td>1024.77</td><td>0.363204</td></tr><tr><th>25</th><td>24</td><td>AMZN240119C02150000</td><td>2022-01-21 19:29:06</td><td>2150.0</td><td>977.65</td><td>0.367709</td></tr><tr><th>26</th><td>25</td><td>AMZN240119C02200000</td><td>2022-01-21 20:32:17</td><td>2200.0</td><td>885.0</td><td>0.360899</td></tr><tr><th>27</th><td>26</td><td>AMZN240119C02250000</td><td>2022-01-21 15:19:00</td><td>2250.0</td><td>925.0</td><td>0.357402</td></tr><tr><th>28</th><td>27</td><td>AMZN240119C02300000</td><td>2022-01-21 19:27:06</td><td>2300.0</td><td>875.0</td><td>0.35405</td></tr><tr><th>29</th><td>28</td><td>AMZN240119C02350000</td><td>2022-01-20 20:51:02</td><td>2350.0</td><td>951.5</td><td>0.352309</td></tr><tr><th>30</th><td>29</td><td>AMZN240119C02400000</td><td>2022-01-21 19:57:11</td><td>2400.0</td><td>800.0</td><td>0.350728</td></tr><tr><th>&vellip;</th><td>&vellip;</td><td>&vellip;</td><td>&vellip;</td><td>&vellip;</td><td>&vellip;</td><td>&vellip;</td></tr></tbody></table></div>"
      ],
      "text/latex": [
       "\\begin{tabular}{r|ccccccc}\n",
       "\t& Column1 & contractSymbol & lastTradeDate & strike & lastPrice & impliedVolatility & \\\\\n",
       "\t\\hline\n",
       "\t& Int64 & String31 & String31 & Float64 & Float64 & Float64 & \\\\\n",
       "\t\\hline\n",
       "\t1 & 0 & AMZN240119C01580000 & 2022-01-21 15:26:57 & 1580.0 & 1358.05 & 0.407957 & $\\dots$ \\\\\n",
       "\t2 & 1 & AMZN240119C01600000 & 2022-01-21 20:59:17 & 1600.0 & 1379.0 & 0.401018 & $\\dots$ \\\\\n",
       "\t3 & 2 & AMZN240119C01620000 & 2022-01-21 19:39:42 & 1620.0 & 1393.7 & 0.392063 & $\\dots$ \\\\\n",
       "\t4 & 3 & AMZN240119C01640000 & 2022-01-21 20:59:16 & 1640.0 & 1337.0 & 0.402312 & $\\dots$ \\\\\n",
       "\t5 & 4 & AMZN240119C01660000 & 2022-01-21 20:45:11 & 1660.0 & 1331.03 & 0.388119 & $\\dots$ \\\\\n",
       "\t6 & 5 & AMZN240119C01680000 & 2022-01-21 19:36:29 & 1680.0 & 1337.62 & 0.395745 & $\\dots$ \\\\\n",
       "\t7 & 6 & AMZN240119C01700000 & 2022-01-21 19:35:54 & 1700.0 & 1246.45 & 0.387022 & $\\dots$ \\\\\n",
       "\t8 & 7 & AMZN240119C01720000 & 2022-01-21 19:57:50 & 1720.0 & 1293.05 & 0.394589 & $\\dots$ \\\\\n",
       "\t9 & 8 & AMZN240119C01740000 & 2022-01-21 16:45:32 & 1740.0 & 1325.0 & 0.384127 & $\\dots$ \\\\\n",
       "\t10 & 9 & AMZN240119C01760000 & 2022-01-21 20:37:57 & 1760.0 & 1250.0 & 0.389346 & $\\dots$ \\\\\n",
       "\t11 & 10 & AMZN240119C01780000 & 2022-01-21 20:44:04 & 1780.0 & 1242.45 & 0.38432 & $\\dots$ \\\\\n",
       "\t12 & 11 & AMZN240119C01800000 & 2022-01-21 20:44:33 & 1800.0 & 1224.39 & 0.39124 & $\\dots$ \\\\\n",
       "\t13 & 12 & AMZN240119C01820000 & 2022-01-21 17:03:10 & 1820.0 & 1253.1 & 0.380515 & $\\dots$ \\\\\n",
       "\t14 & 13 & AMZN240119C01840000 & 2022-01-21 20:36:15 & 1840.0 & 1183.88 & 0.388581 & $\\dots$ \\\\\n",
       "\t15 & 14 & AMZN240119C01860000 & 2022-01-21 20:51:35 & 1860.0 & 1169.03 & 0.375851 & $\\dots$ \\\\\n",
       "\t16 & 15 & AMZN240119C01880000 & 2022-01-21 20:37:26 & 1880.0 & 1151.87 & 0.38344 & $\\dots$ \\\\\n",
       "\t17 & 16 & AMZN240119C01900000 & 2022-01-24 14:48:04 & 1900.0 & 1090.61 & 0.373541 & $\\dots$ \\\\\n",
       "\t18 & 17 & AMZN240119C01920000 & 2022-01-24 15:51:37 & 1920.0 & 1058.01 & 0.374526 & $\\dots$ \\\\\n",
       "\t19 & 18 & AMZN240119C01940000 & 2022-01-21 20:40:04 & 1940.0 & 1109.44 & 0.371325 & $\\dots$ \\\\\n",
       "\t20 & 19 & AMZN240119C01960000 & 2022-01-21 20:41:50 & 1960.0 & 1101.97 & 0.370558 & $\\dots$ \\\\\n",
       "\t21 & 20 & AMZN240119C01980000 & 2022-01-21 20:57:29 & 1980.0 & 1068.7 & 0.369193 & $\\dots$ \\\\\n",
       "\t22 & 21 & AMZN240119C02000000 & 2022-01-24 17:54:51 & 2000.0 & 970.0 & 0.369645 & $\\dots$ \\\\\n",
       "\t23 & 22 & AMZN240119C02050000 & 2022-01-21 20:57:21 & 2050.0 & 1009.8 & 0.373103 & $\\dots$ \\\\\n",
       "\t24 & 23 & AMZN240119C02100000 & 2022-01-21 17:33:44 & 2100.0 & 1024.77 & 0.363204 & $\\dots$ \\\\\n",
       "\t25 & 24 & AMZN240119C02150000 & 2022-01-21 19:29:06 & 2150.0 & 977.65 & 0.367709 & $\\dots$ \\\\\n",
       "\t26 & 25 & AMZN240119C02200000 & 2022-01-21 20:32:17 & 2200.0 & 885.0 & 0.360899 & $\\dots$ \\\\\n",
       "\t27 & 26 & AMZN240119C02250000 & 2022-01-21 15:19:00 & 2250.0 & 925.0 & 0.357402 & $\\dots$ \\\\\n",
       "\t28 & 27 & AMZN240119C02300000 & 2022-01-21 19:27:06 & 2300.0 & 875.0 & 0.35405 & $\\dots$ \\\\\n",
       "\t29 & 28 & AMZN240119C02350000 & 2022-01-20 20:51:02 & 2350.0 & 951.5 & 0.352309 & $\\dots$ \\\\\n",
       "\t30 & 29 & AMZN240119C02400000 & 2022-01-21 19:57:11 & 2400.0 & 800.0 & 0.350728 & $\\dots$ \\\\\n",
       "\t$\\dots$ & $\\dots$ & $\\dots$ & $\\dots$ & $\\dots$ & $\\dots$ & $\\dots$ &  \\\\\n",
       "\\end{tabular}\n"
      ],
      "text/plain": [
       "\u001b[1m37×7 DataFrame\u001b[0m\n",
       "\u001b[1m Row \u001b[0m│\u001b[1m Column1 \u001b[0m\u001b[1m contractSymbol      \u001b[0m\u001b[1m lastTradeDate       \u001b[0m\u001b[1m strike  \u001b[0m\u001b[1m lastPrice \u001b[0m\u001b[1m \u001b[0m ⋯\n",
       "\u001b[1m     \u001b[0m│\u001b[90m Int64   \u001b[0m\u001b[90m String31            \u001b[0m\u001b[90m String31            \u001b[0m\u001b[90m Float64 \u001b[0m\u001b[90m Float64   \u001b[0m\u001b[90m \u001b[0m ⋯\n",
       "─────┼──────────────────────────────────────────────────────────────────────────\n",
       "   1 │       0  AMZN240119C01580000  2022-01-21 15:26:57   1580.0    1358.05   ⋯\n",
       "   2 │       1  AMZN240119C01600000  2022-01-21 20:59:17   1600.0    1379.0\n",
       "   3 │       2  AMZN240119C01620000  2022-01-21 19:39:42   1620.0    1393.7\n",
       "   4 │       3  AMZN240119C01640000  2022-01-21 20:59:16   1640.0    1337.0\n",
       "   5 │       4  AMZN240119C01660000  2022-01-21 20:45:11   1660.0    1331.03   ⋯\n",
       "   6 │       5  AMZN240119C01680000  2022-01-21 19:36:29   1680.0    1337.62\n",
       "   7 │       6  AMZN240119C01700000  2022-01-21 19:35:54   1700.0    1246.45\n",
       "   8 │       7  AMZN240119C01720000  2022-01-21 19:57:50   1720.0    1293.05\n",
       "   9 │       8  AMZN240119C01740000  2022-01-21 16:45:32   1740.0    1325.0    ⋯\n",
       "  10 │       9  AMZN240119C01760000  2022-01-21 20:37:57   1760.0    1250.0\n",
       "  11 │      10  AMZN240119C01780000  2022-01-21 20:44:04   1780.0    1242.45\n",
       "  ⋮  │    ⋮              ⋮                    ⋮              ⋮         ⋮       ⋱\n",
       "  28 │      27  AMZN240119C02300000  2022-01-21 19:27:06   2300.0     875.0\n",
       "  29 │      28  AMZN240119C02350000  2022-01-20 20:51:02   2350.0     951.5    ⋯\n",
       "  30 │      29  AMZN240119C02400000  2022-01-21 19:57:11   2400.0     800.0\n",
       "  31 │      30  AMZN240119C02450000  2022-01-21 19:46:43   2450.0     689.0\n",
       "  32 │      31  AMZN240119C02500000  2022-01-24 17:21:49   2500.0     640.17\n",
       "  33 │      32  AMZN240119C02550000  2022-01-24 17:19:01   2550.0     616.0    ⋯\n",
       "  34 │      33  AMZN240119C02600000  2022-01-24 17:42:53   2600.0     600.0\n",
       "  35 │      34  AMZN240119C02650000  2022-01-21 19:08:36   2650.0     667.89\n",
       "  36 │      35  AMZN240119C02700000  2022-01-24 17:54:24   2700.0     558.64\n",
       "  37 │      36  AMZN240119C02750000  2022-01-24 17:52:48   2750.0     532.0    ⋯\n",
       "\u001b[36m                                                   2 columns and 16 rows omitted\u001b[0m"
      ]
     },
     "execution_count": 8,
     "metadata": {},
     "output_type": "execute_result"
    }
   ],
   "source": [
    "# Importing CSVs\n",
    "\n",
    "amzn_data = CSV.read(\"amzn_itm_calls.csv\", DataFrame)\n",
    "amzn_itm_calls = CSV.read(\"amzn_data.csv\", DataFrame)"
   ]
  },
  {
   "cell_type": "code",
   "execution_count": 11,
   "metadata": {},
   "outputs": [
    {
     "data": {
      "text/plain": [
       "0.29431845319986794"
      ]
     },
     "execution_count": 11,
     "metadata": {},
     "output_type": "execute_result"
    }
   ],
   "source": [
    "# Volatility Code\n",
    "\n",
    "three_yrs = 252*3 \n",
    "σ = std(last(amzn_data[!,\"Returns\"], three_yrs))*sqrt(252)\n",
    "\n",
    "#  Dividend Code\n",
    "d = 0\n",
    "\n",
    "# Current price code\n",
    "\n",
    "amzn_ex_price = last(amzn_data[!,\"Adj Close\"])\n",
    "σ"
   ]
  },
  {
   "cell_type": "code",
   "execution_count": 13,
   "metadata": {},
   "outputs": [
    {
     "data": {
      "text/plain": [
       "\"1.72%\""
      ]
     },
     "execution_count": 13,
     "metadata": {},
     "output_type": "execute_result"
    }
   ],
   "source": [
    "# risk_free_rate scraping\n",
    "\n",
    "url = \"https://www.bloomberg.com/markets/rates-bonds/government-bonds/us\"\n",
    "r = HTTP.get(url)\n",
    "h = parsehtml(String(r.body))\n",
    "body = h.root[2]\n",
    "risk_free_raw_1 = eachmatch(Selector(\"#content > div > div >\n",
    "        div.section-front__main-content > div.data-tables.first > div >\n",
    "        table > tbody > tr:nth-child(6) > td:nth-child(4) > span\"), body)\n",
    "\n",
    "risk_free_raw_2 = (text(risk_free_raw_1[1]))"
   ]
  },
  {
   "cell_type": "code",
   "execution_count": 14,
   "metadata": {},
   "outputs": [
    {
     "data": {
      "text/plain": [
       "0.0172"
      ]
     },
     "execution_count": 14,
     "metadata": {},
     "output_type": "execute_result"
    }
   ],
   "source": [
    "# Risk free float conversion\n",
    "\n",
    "risk_free_rate = replace(risk_free_raw_2, \"%\" => \"\" )\n",
    "risk_free_float = parse(Float64, risk_free_rate)/100"
   ]
  },
  {
   "cell_type": "code",
   "execution_count": 15,
   "metadata": {},
   "outputs": [
    {
     "data": {
      "text/plain": [
       "2.876984126984127"
      ]
     },
     "execution_count": 15,
     "metadata": {},
     "output_type": "execute_result"
    }
   ],
   "source": [
    "# Time delta code\n",
    "\n",
    "today = Dates.today()\n",
    "due_date = Dates.Date(\"2024-01-19\")\n",
    "T = (Dates.value(due_date - today))/252"
   ]
  },
  {
   "cell_type": "code",
   "execution_count": 16,
   "metadata": {},
   "outputs": [
    {
     "data": {
      "text/plain": [
       "bstest (generic function with 1 method)"
      ]
     },
     "execution_count": 16,
     "metadata": {},
     "output_type": "execute_result"
    }
   ],
   "source": [
    "function bstest(row)\n",
    "    strikep = amzn_itm_calls[!,\"strike\"][row]\n",
    "    blsp = blsprice(amzn_ex_price, strikep, risk_free_float, T, σ, d )\n",
    "    actualp = amzn_itm_calls[!,\"lastPrice\"][row]\n",
    "    println(\"Black-Scholes Price:\", blsp)\n",
    "    print(\"Actual Price:\", actualp)\n",
    "end"
   ]
  },
  {
   "cell_type": "code",
   "execution_count": 19,
   "metadata": {
    "scrolled": false
   },
   "outputs": [
    {
     "name": "stdout",
     "output_type": "stream",
     "text": [
      "Black-Scholes Price:1062.5263321233756\n",
      "Actual Price:1109.44"
     ]
    }
   ],
   "source": [
    "rownumber = size(amzn_itm_calls, 1)\n",
    "randrow = rand(1:rownumber)\n",
    "bstest(randrow)"
   ]
  }
 ],
 "metadata": {
  "kernelspec": {
   "display_name": "Julia 1.7.0",
   "language": "julia",
   "name": "julia-1.7"
  },
  "language_info": {
   "file_extension": ".jl",
   "mimetype": "application/julia",
   "name": "julia",
   "version": "1.7.0"
  }
 },
 "nbformat": 4,
 "nbformat_minor": 4
}
