{
 "cells": [
  {
   "cell_type": "code",
   "execution_count": 5,
   "metadata": {},
   "outputs": [],
   "source": [
    "# Imported libraries\n",
    "\n",
    "import yfinance as yf\n",
    "import pandas as pd"
   ]
  },
  {
   "cell_type": "code",
   "execution_count": 3,
   "metadata": {},
   "outputs": [],
   "source": [
    "tick_amzn = yf.Ticker(\"AMZN\") # Option Ticker\n",
    "date = tick_amzn.options[-1] # Farest due date"
   ]
  },
  {
   "cell_type": "code",
   "execution_count": 9,
   "metadata": {
    "scrolled": true
   },
   "outputs": [],
   "source": [
    "call_data = tick_amzn.option_chain(date = date).calls  # Calls for a given date\n",
    "\n",
    "# Exclusion of irrelevant columns\n",
    "\n",
    "label_list = [\"bid\", \"ask\", \"change\", \"percentChange\", \"volume\", \"openInterest\", \"contractSize\", \"currency\"]\n",
    "call_data = call_data.drop(columns = label_list, inplace = False)\n",
    "amzn_itm_call_data = call_data[call_data[\"inTheMoney\"] == True]"
   ]
  },
  {
   "cell_type": "code",
   "execution_count": 10,
   "metadata": {},
   "outputs": [
    {
     "name": "stdout",
     "output_type": "stream",
     "text": [
      "[*********************100%***********************]  1 of 1 completed\n"
     ]
    }
   ],
   "source": [
    "# Stock data\n",
    "\n",
    "amzn_closes = pd.DataFrame(yf.download(tickers = \"AMZN\", period = \"max\")[\"Adj Close\"])\n",
    "amzn_returns = amzn_closes.pct_change()\n",
    "amzn_closes[\"Returns\"] = amzn_returns"
   ]
  },
  {
   "cell_type": "code",
   "execution_count": 17,
   "metadata": {},
   "outputs": [],
   "source": [
    "# Saving data\n",
    "\n",
    "amzn_itm_call_data.to_csv(\"amzn_data.csv\")\n",
    "amzn_closes.to_csv(\"amzn_itm_calls.csv\")"
   ]
  }
 ],
 "metadata": {
  "kernelspec": {
   "display_name": "Python 3",
   "language": "python",
   "name": "python3"
  },
  "language_info": {
   "codemirror_mode": {
    "name": "ipython",
    "version": 3
   },
   "file_extension": ".py",
   "mimetype": "text/x-python",
   "name": "python",
   "nbconvert_exporter": "python",
   "pygments_lexer": "ipython3",
   "version": "3.8.5"
  }
 },
 "nbformat": 4,
 "nbformat_minor": 4
}
